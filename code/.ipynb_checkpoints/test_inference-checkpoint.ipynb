{
 "cells": [
  {
   "cell_type": "code",
   "execution_count": 2,
   "id": "bae632a3",
   "metadata": {},
   "outputs": [],
   "source": [
    "import inference_new as inf"
   ]
  },
  {
   "cell_type": "code",
   "execution_count": 3,
   "id": "0b008ded",
   "metadata": {},
   "outputs": [
    {
     "name": "stdout",
     "output_type": "stream",
     "text": [
      "{'url': 'https://us-south.ml.cloud.ibm.com', 'apikey': 'TrlAFR1J57g7Vazr_0HxLb02hlj3fSLmZ42eXy-WI7Eq'}\n",
      "[{'model_id': 'ibm/granite-13b-chat-v1', 'created_at': '2024-02-23T14:34:22.522Z', 'results': [{'generated_text': 'SQL query: SELECT count(*) FROM management WHERE age > 56', 'generated_token_count': 14, 'input_token_count': 215, 'stop_reason': 'eos_token'}], 'system': {'warnings': [{'message': \"Model 'ibm/granite-13b-chat-v1' is in deprecated and constricted state from 2024-01-11. It will be in withdrawn state from 2024-04-11. IDs of alternative models: ibm/granite-13b-chat-v2.\", 'id': 'constriction_warning', 'more_info': 'https://dataplatform.cloud.ibm.com/docs/content/wsj/analyze-data/fm-model-lifecycle.html?context=wx&audience=wdp'}]}}]\n",
      "SNo:  0\n",
      "Question:  How many heads of the departments are older than 56 ?\n",
      "context:  ['CREATE TABLE \"department\" ( \"Department_ID\" int, \"Name\" text, \"Creation\" text, \"Ranking\" int, \"Budget_in_Billions\" real, \"Num_Employees\" real, PRIMARY KEY (\"Department_ID\") )', 'CREATE TABLE \"head\" ( \"head_ID\" int, \"name\" text, \"born_state\" text, \"age\" real, PRIMARY KEY (\"head_ID\") )', 'CREATE TABLE \"management\" ( \"department_ID\" int, \"head_ID\" int, \"temporary_acting\" text, PRIMARY KEY (\"Department_ID\",\"head_ID\"), FOREIGN KEY (\"Department_ID\") REFERENCES `department`(\"Department_ID\"), FOREIGN KEY (\"head_ID\") REFERENCES `head`(\"head_ID\") )']\n",
      "result:  [{'model_id': 'ibm/granite-13b-chat-v1', 'created_at': '2024-02-23T14:34:22.522Z', 'results': [{'generated_text': 'SQL query: SELECT count(*) FROM management WHERE age > 56', 'generated_token_count': 14, 'input_token_count': 215, 'stop_reason': 'eos_token'}], 'system': {'warnings': [{'message': \"Model 'ibm/granite-13b-chat-v1' is in deprecated and constricted state from 2024-01-11. It will be in withdrawn state from 2024-04-11. IDs of alternative models: ibm/granite-13b-chat-v2.\", 'id': 'constriction_warning', 'more_info': 'https://dataplatform.cloud.ibm.com/docs/content/wsj/analyze-data/fm-model-lifecycle.html?context=wx&audience=wdp'}]}}]\n",
      "*******************\n",
      "[{'model_id': 'ibm/granite-13b-chat-v1', 'created_at': '2024-02-23T14:34:23.936Z', 'results': [{'generated_text': 'SELECT T1.name , T1.born_state , T1.age FROM head AS T1 JOIN management AS T2 ON T1.head_ID = T2.head_ID ORDER BY T1.age', 'generated_token_count': 48, 'input_token_count': 221, 'stop_reason': 'eos_token'}], 'system': {'warnings': [{'message': \"Model 'ibm/granite-13b-chat-v1' is in deprecated and constricted state from 2024-01-11. It will be in withdrawn state from 2024-04-11. IDs of alternative models: ibm/granite-13b-chat-v2.\", 'id': 'constriction_warning', 'more_info': 'https://dataplatform.cloud.ibm.com/docs/content/wsj/analyze-data/fm-model-lifecycle.html?context=wx&audience=wdp'}]}}]\n",
      "SNo:  1\n",
      "Question:  List the name, born state and age of the heads of departments ordered by age.\n",
      "context:  ['CREATE TABLE \"department\" ( \"Department_ID\" int, \"Name\" text, \"Creation\" text, \"Ranking\" int, \"Budget_in_Billions\" real, \"Num_Employees\" real, PRIMARY KEY (\"Department_ID\") )', 'CREATE TABLE \"head\" ( \"head_ID\" int, \"name\" text, \"born_state\" text, \"age\" real, PRIMARY KEY (\"head_ID\") )', 'CREATE TABLE \"management\" ( \"department_ID\" int, \"head_ID\" int, \"temporary_acting\" text, PRIMARY KEY (\"Department_ID\",\"head_ID\"), FOREIGN KEY (\"Department_ID\") REFERENCES `department`(\"Department_ID\"), FOREIGN KEY (\"head_ID\") REFERENCES `head`(\"head_ID\") )']\n",
      "result:  [{'model_id': 'ibm/granite-13b-chat-v1', 'created_at': '2024-02-23T14:34:23.936Z', 'results': [{'generated_text': 'SELECT T1.name , T1.born_state , T1.age FROM head AS T1 JOIN management AS T2 ON T1.head_ID = T2.head_ID ORDER BY T1.age', 'generated_token_count': 48, 'input_token_count': 221, 'stop_reason': 'eos_token'}], 'system': {'warnings': [{'message': \"Model 'ibm/granite-13b-chat-v1' is in deprecated and constricted state from 2024-01-11. It will be in withdrawn state from 2024-04-11. IDs of alternative models: ibm/granite-13b-chat-v2.\", 'id': 'constriction_warning', 'more_info': 'https://dataplatform.cloud.ibm.com/docs/content/wsj/analyze-data/fm-model-lifecycle.html?context=wx&audience=wdp'}]}}]\n",
      "*******************\n",
      "[{'model_id': 'ibm/granite-13b-chat-v1', 'created_at': '2024-02-23T14:34:24.731Z', 'results': [{'generated_text': 'Department_ID, Name, Creation, Ranking, Budget_in_Billions, Num_Employees', 'generated_token_count': 23, 'input_token_count': 216, 'stop_reason': 'eos_token'}], 'system': {'warnings': [{'message': \"Model 'ibm/granite-13b-chat-v1' is in deprecated and constricted state from 2024-01-11. It will be in withdrawn state from 2024-04-11. IDs of alternative models: ibm/granite-13b-chat-v2.\", 'id': 'constriction_warning', 'more_info': 'https://dataplatform.cloud.ibm.com/docs/content/wsj/analyze-data/fm-model-lifecycle.html?context=wx&audience=wdp'}]}}]\n",
      "SNo:  2\n",
      "Question:  List the creation year, name and budget of each department.\n",
      "context:  ['CREATE TABLE \"department\" ( \"Department_ID\" int, \"Name\" text, \"Creation\" text, \"Ranking\" int, \"Budget_in_Billions\" real, \"Num_Employees\" real, PRIMARY KEY (\"Department_ID\") )', 'CREATE TABLE \"head\" ( \"head_ID\" int, \"name\" text, \"born_state\" text, \"age\" real, PRIMARY KEY (\"head_ID\") )', 'CREATE TABLE \"management\" ( \"department_ID\" int, \"head_ID\" int, \"temporary_acting\" text, PRIMARY KEY (\"Department_ID\",\"head_ID\"), FOREIGN KEY (\"Department_ID\") REFERENCES `department`(\"Department_ID\"), FOREIGN KEY (\"head_ID\") REFERENCES `head`(\"head_ID\") )']\n",
      "result:  [{'model_id': 'ibm/granite-13b-chat-v1', 'created_at': '2024-02-23T14:34:24.731Z', 'results': [{'generated_text': 'Department_ID, Name, Creation, Ranking, Budget_in_Billions, Num_Employees', 'generated_token_count': 23, 'input_token_count': 216, 'stop_reason': 'eos_token'}], 'system': {'warnings': [{'message': \"Model 'ibm/granite-13b-chat-v1' is in deprecated and constricted state from 2024-01-11. It will be in withdrawn state from 2024-04-11. IDs of alternative models: ibm/granite-13b-chat-v2.\", 'id': 'constriction_warning', 'more_info': 'https://dataplatform.cloud.ibm.com/docs/content/wsj/analyze-data/fm-model-lifecycle.html?context=wx&audience=wdp'}]}}]\n",
      "*******************\n"
     ]
    },
    {
     "data": {
      "text/plain": [
       "('Inference completed successfully, output file is saved at :',\n",
       " '/data/rlhf/amit/QueryCraft-The-SuperKnowa-SQL-Sculptor/output/inference/expDummy.csv')"
      ]
     },
     "execution_count": 3,
     "metadata": {},
     "output_type": "execute_result"
    }
   ],
   "source": [
    "inf.funcInference(model_name=\"ibm/granite-13b-chat-v1\")"
   ]
  },
  {
   "cell_type": "code",
   "execution_count": null,
   "id": "d2898a6e",
   "metadata": {},
   "outputs": [],
   "source": []
  },
  {
   "cell_type": "code",
   "execution_count": null,
   "id": "f0e1ce53",
   "metadata": {},
   "outputs": [],
   "source": []
  }
 ],
 "metadata": {
  "kernelspec": {
   "display_name": "akTextToSql",
   "language": "python",
   "name": "aktexttosql"
  },
  "language_info": {
   "codemirror_mode": {
    "name": "ipython",
    "version": 3
   },
   "file_extension": ".py",
   "mimetype": "text/x-python",
   "name": "python",
   "nbconvert_exporter": "python",
   "pygments_lexer": "ipython3",
   "version": "3.9.17"
  }
 },
 "nbformat": 4,
 "nbformat_minor": 5
}
